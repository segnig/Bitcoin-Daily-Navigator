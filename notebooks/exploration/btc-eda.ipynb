{
 "cells": [
  {
   "cell_type": "code",
   "execution_count": 1,
   "id": "5af765d3",
   "metadata": {},
   "outputs": [],
   "source": [
    "import pandas as pd\n",
    "import numpy as np\n",
    "import matplotlib.pyplot as plt\n",
    "import seaborn as sns\n",
    "import os"
   ]
  },
  {
   "cell_type": "markdown",
   "id": "2c0a34a8",
   "metadata": {},
   "source": [
    "### Data Loading"
   ]
  },
  {
   "cell_type": "code",
   "execution_count": 2,
   "id": "c93d0945",
   "metadata": {},
   "outputs": [
    {
     "name": "stdout",
     "output_type": "stream",
     "text": [
      "Loading data from : ../../data/raw/btc_daily_ohlcv.csv\n",
      "Data loaded successfully\n"
     ]
    }
   ],
   "source": [
    "FILE_PATH = r\"../../data/raw/btc_daily_ohlcv.csv\"\n",
    "\n",
    "print(\"Loading data from :\", FILE_PATH)\n",
    "\n",
    "try:\n",
    "    df = pd.read_csv(FILE_PATH)\n",
    "\n",
    "    print(\"Data loaded successfully\")\n",
    "\n",
    "except FileNotFoundError:\n",
    "    print(f\"Error: {FILE_PATH} not found. Please ensure the file exists.\")\n",
    "    df = None "
   ]
  },
  {
   "cell_type": "markdown",
   "id": "92f75e2d",
   "metadata": {},
   "source": [
    "### DATA PROFILLING"
   ]
  },
  {
   "cell_type": "code",
   "execution_count": 3,
   "id": "9c2e62ab",
   "metadata": {},
   "outputs": [
    {
     "name": "stdout",
     "output_type": "stream",
     "text": [
      "Data Profile\n",
      "data shape: (4017, 8)\n",
      "Columns names: Index(['Date', 'Open', 'High', 'Low', 'Close', 'Volume', 'Dividends',\n",
      "       'Stock Splits'],\n",
      "      dtype='object')\n"
     ]
    }
   ],
   "source": [
    "print(\"Data Profile\")\n",
    "\n",
    "print(\"data shape:\", df.shape)\n",
    "\n",
    "print(\"Columns names:\", df.columns)"
   ]
  },
  {
   "cell_type": "markdown",
   "id": "e80d6287",
   "metadata": {},
   "source": [
    "*   **Date**: This column represents the specific calendar day to which the data in that row pertains. In financial data, it's crucial for time-series analysis.\n",
    "*   **Open**: This is the price of the asset (Bitcoin, in this case) at the very **beginning** of the trading period (which is a day for daily data). It's the first traded price of that day.\n",
    "*   **High**: This is the **highest price** that the asset reached at any point during that specific trading day.\n",
    "*   **Low**: This is the **lowest price** that the asset reached at any point during that specific trading day.\n",
    "*   **Close**: This is the price of the asset at the **end** of the trading period. It's often considered the most important price of the day, as it reflects the final market sentiment and value at the close of trading.\n",
    "*   **Volume**: This indicates the **total number of units** of the asset (e.g., Bitcoins) that were traded during that specific day. Higher volume often suggests stronger market interest or conviction behind price movements.\n",
    "*   **Dividends**: For cryptocurrencies like Bitcoin, this column will almost always be **zero**. Dividends are distributions of a company's profits to its shareholders, which is not applicable to how cryptocurrencies operate.\n",
    "*   **Stock Splits**: Similar to dividends, this column will also almost always be **zero** for cryptocurrencies. A stock split is an action by a company to increase the number of its outstanding shares, which is a corporate action not relevant to Bitcoin."
   ]
  },
  {
   "cell_type": "code",
   "execution_count": 4,
   "id": "6f6bb033",
   "metadata": {},
   "outputs": [
    {
     "name": "stdout",
     "output_type": "stream",
     "text": [
      "\n",
      "--- Initial Data Inspection ---\n",
      "\n",
      "First 5 rows:\n",
      "                        Date        Open        High         Low       Close  \\\n",
      "0  2014-09-17 00:00:00+00:00  465.864014  468.174011  452.421997  457.334015   \n",
      "1  2014-09-18 00:00:00+00:00  456.859985  456.859985  413.104004  424.440002   \n",
      "2  2014-09-19 00:00:00+00:00  424.102997  427.834991  384.532013  394.795990   \n",
      "3  2014-09-20 00:00:00+00:00  394.673004  423.295990  389.882996  408.903992   \n",
      "4  2014-09-21 00:00:00+00:00  408.084991  412.425995  393.181000  398.821014   \n",
      "\n",
      "     Volume  Dividends  Stock Splits  \n",
      "0  21056800        0.0           0.0  \n",
      "1  34483200        0.0           0.0  \n",
      "2  37919700        0.0           0.0  \n",
      "3  36863600        0.0           0.0  \n",
      "4  26580100        0.0           0.0  \n",
      "\n",
      "Last 5 rows:\n",
      "                           Date           Open           High            Low  \\\n",
      "4012  2025-09-11 00:00:00+00:00  113961.429688  115522.546875  113453.835938   \n",
      "4013  2025-09-12 00:00:00+00:00  115507.789062  116769.382812  114794.484375   \n",
      "4014  2025-09-13 00:00:00+00:00  116093.562500  116334.632812  115248.273438   \n",
      "4015  2025-09-14 00:00:00+00:00  115950.289062  116181.500000  115222.398438   \n",
      "4016  2025-09-15 00:00:00+00:00  115377.843750  116728.804688  114914.414062   \n",
      "\n",
      "              Close       Volume  Dividends  Stock Splits  \n",
      "4012  115507.539062  45685065332        0.0           0.0  \n",
      "4013  116101.578125  54785725894        0.0           0.0  \n",
      "4014  115950.507812  34549454947        0.0           0.0  \n",
      "4015  115407.656250  32798036057        0.0           0.0  \n",
      "4016  115687.101562  39888404480        0.0           0.0  \n"
     ]
    }
   ],
   "source": [
    "print(\"\\n--- Initial Data Inspection ---\")\n",
    "\n",
    "print(\"\\nFirst 5 rows:\")\n",
    "print(df.head())\n",
    "\n",
    "\n",
    "print(\"\\nLast 5 rows:\")\n",
    "print(df.tail())\n",
    "\n"
   ]
  },
  {
   "cell_type": "code",
   "execution_count": 5,
   "id": "d24babfe",
   "metadata": {},
   "outputs": [
    {
     "name": "stdout",
     "output_type": "stream",
     "text": [
      "\n",
      "DataFrame Info:\n",
      "<class 'pandas.core.frame.DataFrame'>\n",
      "RangeIndex: 4017 entries, 0 to 4016\n",
      "Data columns (total 8 columns):\n",
      " #   Column        Non-Null Count  Dtype  \n",
      "---  ------        --------------  -----  \n",
      " 0   Date          4017 non-null   object \n",
      " 1   Open          4017 non-null   float64\n",
      " 2   High          4017 non-null   float64\n",
      " 3   Low           4017 non-null   float64\n",
      " 4   Close         4017 non-null   float64\n",
      " 5   Volume        4017 non-null   int64  \n",
      " 6   Dividends     4017 non-null   float64\n",
      " 7   Stock Splits  4017 non-null   float64\n",
      "dtypes: float64(6), int64(1), object(1)\n",
      "memory usage: 251.2+ KB\n",
      "\n",
      "Descriptive Statistics:\n",
      "                Open           High            Low          Close  \\\n",
      "count    4017.000000    4017.000000    4017.000000    4017.000000   \n",
      "mean    24826.040893   25339.492531   24291.176263   24853.617069   \n",
      "std     29483.447014   30010.084760   28941.810973   29514.768075   \n",
      "min       176.897003     211.731003     171.509995     178.102997   \n",
      "25%      2493.719971    2571.340088    2385.149902    2506.370117   \n",
      "50%     10280.998047   10457.626953   10020.573242   10280.351562   \n",
      "75%     39250.191406   40180.367188   38112.812500   39294.199219   \n",
      "max    123339.398438  124457.117188  118959.195312  123344.062500   \n",
      "\n",
      "             Volume  Dividends  Stock Splits  \n",
      "count  4.017000e+03     4017.0        4017.0  \n",
      "mean   2.057254e+10        0.0           0.0  \n",
      "std    2.185441e+10        0.0           0.0  \n",
      "min    5.914570e+06        0.0           0.0  \n",
      "25%    1.080030e+09        0.0           0.0  \n",
      "50%    1.649539e+10        0.0           0.0  \n",
      "75%    3.210423e+10        0.0           0.0  \n",
      "max    3.509679e+11        0.0           0.0  \n"
     ]
    }
   ],
   "source": [
    "print(\"\\nDataFrame Info:\")\n",
    "df.info()\n",
    "\n",
    "print(\"\\nDescriptive Statistics:\")\n",
    "print(df.describe())"
   ]
  },
  {
   "cell_type": "code",
   "execution_count": null,
   "id": "11581974",
   "metadata": {},
   "outputs": [],
   "source": []
  },
  {
   "cell_type": "code",
   "execution_count": 6,
   "id": "44cc61aa",
   "metadata": {},
   "outputs": [
    {
     "data": {
      "text/html": [
       "<div>\n",
       "<style scoped>\n",
       "    .dataframe tbody tr th:only-of-type {\n",
       "        vertical-align: middle;\n",
       "    }\n",
       "\n",
       "    .dataframe tbody tr th {\n",
       "        vertical-align: top;\n",
       "    }\n",
       "\n",
       "    .dataframe thead th {\n",
       "        text-align: right;\n",
       "    }\n",
       "</style>\n",
       "<table border=\"1\" class=\"dataframe\">\n",
       "  <thead>\n",
       "    <tr style=\"text-align: right;\">\n",
       "      <th></th>\n",
       "      <th>Dividends</th>\n",
       "      <th>Stock Splits</th>\n",
       "    </tr>\n",
       "  </thead>\n",
       "  <tbody>\n",
       "    <tr>\n",
       "      <th>count</th>\n",
       "      <td>4017.0</td>\n",
       "      <td>4017.0</td>\n",
       "    </tr>\n",
       "    <tr>\n",
       "      <th>mean</th>\n",
       "      <td>0.0</td>\n",
       "      <td>0.0</td>\n",
       "    </tr>\n",
       "    <tr>\n",
       "      <th>std</th>\n",
       "      <td>0.0</td>\n",
       "      <td>0.0</td>\n",
       "    </tr>\n",
       "    <tr>\n",
       "      <th>min</th>\n",
       "      <td>0.0</td>\n",
       "      <td>0.0</td>\n",
       "    </tr>\n",
       "    <tr>\n",
       "      <th>25%</th>\n",
       "      <td>0.0</td>\n",
       "      <td>0.0</td>\n",
       "    </tr>\n",
       "    <tr>\n",
       "      <th>50%</th>\n",
       "      <td>0.0</td>\n",
       "      <td>0.0</td>\n",
       "    </tr>\n",
       "    <tr>\n",
       "      <th>75%</th>\n",
       "      <td>0.0</td>\n",
       "      <td>0.0</td>\n",
       "    </tr>\n",
       "    <tr>\n",
       "      <th>max</th>\n",
       "      <td>0.0</td>\n",
       "      <td>0.0</td>\n",
       "    </tr>\n",
       "  </tbody>\n",
       "</table>\n",
       "</div>"
      ],
      "text/plain": [
       "       Dividends  Stock Splits\n",
       "count     4017.0        4017.0\n",
       "mean         0.0           0.0\n",
       "std          0.0           0.0\n",
       "min          0.0           0.0\n",
       "25%          0.0           0.0\n",
       "50%          0.0           0.0\n",
       "75%          0.0           0.0\n",
       "max          0.0           0.0"
      ]
     },
     "execution_count": 6,
     "metadata": {},
     "output_type": "execute_result"
    }
   ],
   "source": [
    "df[[\"Dividends\", \"Stock Splits\"]].describe()"
   ]
  },
  {
   "cell_type": "markdown",
   "id": "16d6a057",
   "metadata": {},
   "source": [
    "### Checking For null values"
   ]
  },
  {
   "cell_type": "code",
   "execution_count": 7,
   "id": "2455b71b",
   "metadata": {},
   "outputs": [
    {
     "name": "stdout",
     "output_type": "stream",
     "text": [
      "Missing Values\n",
      " Date            0\n",
      "Open            0\n",
      "High            0\n",
      "Low             0\n",
      "Close           0\n",
      "Volume          0\n",
      "Dividends       0\n",
      "Stock Splits    0\n",
      "dtype: int64\n"
     ]
    }
   ],
   "source": [
    "missing_values = df.isnull().sum()\n",
    "\n",
    "print(\"Missing Values\\n\", missing_values)"
   ]
  },
  {
   "cell_type": "code",
   "execution_count": 8,
   "id": "aaa5dcce",
   "metadata": {},
   "outputs": [
    {
     "data": {
      "text/plain": [
       "Index(['Date', 'Open', 'High', 'Low', 'Close', 'Volume', 'Dividends',\n",
       "       'Stock Splits'],\n",
       "      dtype='object')"
      ]
     },
     "execution_count": 8,
     "metadata": {},
     "output_type": "execute_result"
    }
   ],
   "source": [
    "# remove extra space from columns name\n",
    "columns_name = [col.strip() for col in df.columns]\n",
    "\n",
    "# reassign\n",
    "df.columns = columns_name\n",
    "\n",
    "df.columns"
   ]
  }
 ],
 "metadata": {
  "kernelspec": {
   "display_name": ".venv",
   "language": "python",
   "name": "python3"
  },
  "language_info": {
   "codemirror_mode": {
    "name": "ipython",
    "version": 3
   },
   "file_extension": ".py",
   "mimetype": "text/x-python",
   "name": "python",
   "nbconvert_exporter": "python",
   "pygments_lexer": "ipython3",
   "version": "3.13.7"
  }
 },
 "nbformat": 4,
 "nbformat_minor": 5
}
