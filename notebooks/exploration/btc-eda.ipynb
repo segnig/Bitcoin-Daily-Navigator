{
 "cells": [
  {
   "cell_type": "code",
   "execution_count": null,
   "id": "5af765d3",
   "metadata": {},
   "outputs": [],
   "source": []
  },
  {
   "cell_type": "markdown",
   "id": "2c0a34a8",
   "metadata": {},
   "source": [
    "### Data Loading"
   ]
  },
  {
   "cell_type": "code",
   "execution_count": null,
   "id": "c93d0945",
   "metadata": {},
   "outputs": [],
   "source": [
    "import pandas as pd\n",
    "\n",
    "\n",
    "FILE_PATH = r\"data/raw/btc_daily_ohlcv.csv\"\n",
    "\n",
    "print(\"Loading data from :\", FILE_PATH)\n",
    "\n",
    "try:\n",
    "    df = pd.read_csv(FILE_PATH)\n",
    "\n",
    "    print(\"Data loaded successfully\")\n",
    "\n",
    "except FileNotFoundError:\n",
    "    print(f\"Error: {FILE_PATH} not found. Please ensure the file exists.\")\n",
    "    df = None "
   ]
  },
  {
   "cell_type": "code",
   "execution_count": null,
   "id": "9c2e62ab",
   "metadata": {},
   "outputs": [],
   "source": []
  }
 ],
 "metadata": {
  "language_info": {
   "name": "python"
  }
 },
 "nbformat": 4,
 "nbformat_minor": 5
}
